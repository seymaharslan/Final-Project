{
 "cells": [
  {
   "cell_type": "code",
   "execution_count": 2,
   "metadata": {},
   "outputs": [],
   "source": [
    "import pandas as pd"
   ]
  },
  {
   "cell_type": "code",
   "execution_count": 7,
   "metadata": {},
   "outputs": [],
   "source": [
    "M3=pd.read_excel(\"Modal-Views.xlsx\")"
   ]
  },
  {
   "cell_type": "markdown",
   "metadata": {},
   "source": [
    "# Data Description"
   ]
  },
  {
   "cell_type": "code",
   "execution_count": 8,
   "metadata": {},
   "outputs": [
    {
     "data": {
      "text/plain": [
       "<bound method NDFrame.head of       Max for a title         SKU        ASIN  \\\n",
       "0                  52         NaN  B00Q8L89HQ   \n",
       "1                  19     980002T  B01E0ONGOI   \n",
       "2                1803      251648  B07FVYTYYV   \n",
       "3                2185   251848BLK  B07G7D6PYT   \n",
       "4                2192   251648BLK  B07GVPH7KF   \n",
       "...               ...         ...         ...   \n",
       "1318               93   84K547-28  B08TFZ71HQ   \n",
       "1319               98   84K547-28  B08TFZ71HQ   \n",
       "1320                1  741148LBLK  B08TGG358W   \n",
       "1321               48  741148LBLK  B08TGG358W   \n",
       "1322                6      88K848  B0947C47TX   \n",
       "\n",
       "                                                  Title  Len  \n",
       "0                         ORO-Tek (OTI-001B TPMS Sensor   29  \n",
       "1     Coyote Monkey Wrench - Telescoping Lug Wrench ...   70  \n",
       "2     Wheel Accessories Parts Set of 24 Chrome Spike...  152  \n",
       "3     Wheel Accessories Parts Set of 32 Black Spiked...  151  \n",
       "4     Wheel Accessories Parts Set of 24 Black Spiked...  151  \n",
       "...                                                 ...  ...  \n",
       "1318  Wheel Accessories Parts Set of 20 Chrome 12x1....  168  \n",
       "1319  Wheel Accessories Parts 20 PC Chrome 12x1.5 Co...  100  \n",
       "1320  Wheel Accessories Parts XL Wheel Locks Set Loc...  115  \n",
       "1321  Wheel Accessories Parts XL Wheel Locks Set Loc...  115  \n",
       "1322  Set of 32 M14x1.5 Chrome 0.84\" 19mm (3/4\") Hex...   80  \n",
       "\n",
       "[1323 rows x 5 columns]>"
      ]
     },
     "execution_count": 8,
     "metadata": {},
     "output_type": "execute_result"
    }
   ],
   "source": [
    "M3.head"
   ]
  },
  {
   "cell_type": "code",
   "execution_count": 9,
   "metadata": {},
   "outputs": [
    {
     "name": "stdout",
     "output_type": "stream",
     "text": [
      "<class 'pandas.core.frame.DataFrame'>\n",
      "RangeIndex: 1323 entries, 0 to 1322\n",
      "Data columns (total 5 columns):\n",
      " #   Column           Non-Null Count  Dtype \n",
      "---  ------           --------------  ----- \n",
      " 0   Max for a title  1323 non-null   int64 \n",
      " 1   SKU              1320 non-null   object\n",
      " 2   ASIN             1323 non-null   object\n",
      " 3   Title            1323 non-null   object\n",
      " 4   Len              1323 non-null   int64 \n",
      "dtypes: int64(2), object(3)\n",
      "memory usage: 51.8+ KB\n"
     ]
    }
   ],
   "source": [
    "M3.info()"
   ]
  },
  {
   "cell_type": "code",
   "execution_count": 10,
   "metadata": {},
   "outputs": [
    {
     "data": {
      "text/html": [
       "<div>\n",
       "<style scoped>\n",
       "    .dataframe tbody tr th:only-of-type {\n",
       "        vertical-align: middle;\n",
       "    }\n",
       "\n",
       "    .dataframe tbody tr th {\n",
       "        vertical-align: top;\n",
       "    }\n",
       "\n",
       "    .dataframe thead th {\n",
       "        text-align: right;\n",
       "    }\n",
       "</style>\n",
       "<table border=\"1\" class=\"dataframe\">\n",
       "  <thead>\n",
       "    <tr style=\"text-align: right;\">\n",
       "      <th></th>\n",
       "      <th>Max for a title</th>\n",
       "      <th>Len</th>\n",
       "    </tr>\n",
       "  </thead>\n",
       "  <tbody>\n",
       "    <tr>\n",
       "      <th>count</th>\n",
       "      <td>1323.000000</td>\n",
       "      <td>1323.000000</td>\n",
       "    </tr>\n",
       "    <tr>\n",
       "      <th>mean</th>\n",
       "      <td>108.798186</td>\n",
       "      <td>135.944067</td>\n",
       "    </tr>\n",
       "    <tr>\n",
       "      <th>std</th>\n",
       "      <td>292.449788</td>\n",
       "      <td>37.746987</td>\n",
       "    </tr>\n",
       "    <tr>\n",
       "      <th>min</th>\n",
       "      <td>0.000000</td>\n",
       "      <td>1.000000</td>\n",
       "    </tr>\n",
       "    <tr>\n",
       "      <th>25%</th>\n",
       "      <td>6.000000</td>\n",
       "      <td>112.000000</td>\n",
       "    </tr>\n",
       "    <tr>\n",
       "      <th>50%</th>\n",
       "      <td>23.000000</td>\n",
       "      <td>138.000000</td>\n",
       "    </tr>\n",
       "    <tr>\n",
       "      <th>75%</th>\n",
       "      <td>78.000000</td>\n",
       "      <td>162.000000</td>\n",
       "    </tr>\n",
       "    <tr>\n",
       "      <th>max</th>\n",
       "      <td>4633.000000</td>\n",
       "      <td>200.000000</td>\n",
       "    </tr>\n",
       "  </tbody>\n",
       "</table>\n",
       "</div>"
      ],
      "text/plain": [
       "       Max for a title          Len\n",
       "count      1323.000000  1323.000000\n",
       "mean        108.798186   135.944067\n",
       "std         292.449788    37.746987\n",
       "min           0.000000     1.000000\n",
       "25%           6.000000   112.000000\n",
       "50%          23.000000   138.000000\n",
       "75%          78.000000   162.000000\n",
       "max        4633.000000   200.000000"
      ]
     },
     "execution_count": 10,
     "metadata": {},
     "output_type": "execute_result"
    }
   ],
   "source": [
    "M3.describe()"
   ]
  },
  {
   "cell_type": "markdown",
   "metadata": {},
   "source": [
    "## Meta Data\n"
   ]
  },
  {
   "cell_type": "markdown",
   "metadata": {},
   "source": [
    "* SKU:Stock Keeping Unit\n",
    "* ASIN:Amazon Standard Identification Number\n",
    "* Max for a title: Maximum total number of clicks recived by the particular item with the given title at a time\n",
    "* Title: Prouct name appears on amazon.com\n",
    "* Len: Title length by character count"
   ]
  },
  {
   "cell_type": "markdown",
   "metadata": {},
   "source": [
    "## Goal"
   ]
  },
  {
   "cell_type": "markdown",
   "metadata": {},
   "source": [
    "We want to see if the listed product’s title length effects the click count (AKA Views) by customer. "
   ]
  },
  {
   "cell_type": "markdown",
   "metadata": {},
   "source": [
    "## Method\n"
   ]
  },
  {
   "cell_type": "markdown",
   "metadata": {},
   "source": [
    "Linear modal or NLP"
   ]
  },
  {
   "cell_type": "code",
   "execution_count": null,
   "metadata": {},
   "outputs": [],
   "source": []
  }
 ],
 "metadata": {
  "kernelspec": {
   "display_name": "Python 3",
   "language": "python",
   "name": "python3"
  },
  "language_info": {
   "codemirror_mode": {
    "name": "ipython",
    "version": 3
   },
   "file_extension": ".py",
   "mimetype": "text/x-python",
   "name": "python",
   "nbconvert_exporter": "python",
   "pygments_lexer": "ipython3",
   "version": "3.8.5"
  }
 },
 "nbformat": 4,
 "nbformat_minor": 4
}
