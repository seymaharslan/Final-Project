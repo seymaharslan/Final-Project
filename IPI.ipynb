{
 "cells": [
  {
   "cell_type": "code",
   "execution_count": 2,
   "metadata": {},
   "outputs": [],
   "source": [
    "import pandas as pd\n",
    "import numpy as np\n",
    "import matplotlib.pyplot as plt\n",
    "from pylab import *\n",
    "import seaborn as sns\n",
    "%matplotlib inline\n",
    "import  statsmodels.api as sm\n",
    "import statsmodels.stats.api as sms\n",
    "from scipy.stats import boxcox"
   ]
  },
  {
   "cell_type": "code",
   "execution_count": 3,
   "metadata": {},
   "outputs": [],
   "source": [
    "M2=pd.read_excel(\"Modal-IPI.xlsx\")"
   ]
  },
  {
   "cell_type": "markdown",
   "metadata": {},
   "source": [
    "# Data Description"
   ]
  },
  {
   "cell_type": "code",
   "execution_count": 4,
   "metadata": {},
   "outputs": [
    {
     "data": {
      "text/plain": [
       "<bound method NDFrame.head of        Date  Inventory performance index  Excess inventory percentage  \\\n",
       "0    week 8                          NaN                        21.28   \n",
       "1    week 9                        514.0                        18.35   \n",
       "2   week 10                        514.0                        20.00   \n",
       "3   week 11                        519.0                        15.89   \n",
       "4   week 12                        525.0                        16.49   \n",
       "5   week 13                        531.0                        18.65   \n",
       "6   week 14                        537.0                        19.57   \n",
       "7   week 15                        548.0                        12.77   \n",
       "8   week 16                        556.0                        10.18   \n",
       "9   week 17                        560.0                        11.46   \n",
       "10  week 18                        564.0                        10.57   \n",
       "11  week 19                        566.0                         8.94   \n",
       "12  week 20                        567.0                         8.81   \n",
       "13  week 21                        567.0                         7.39   \n",
       "14  week 22                        568.0                         8.46   \n",
       "\n",
       "    FBA sell-through  Stranded inventory percentage  FBA in-stock rate  \n",
       "0                NaN                            NaN                NaN  \n",
       "1               1.25                           1.14                NaN  \n",
       "2               1.33                           3.89              89.92  \n",
       "3               1.27                           1.95              92.22  \n",
       "4               1.41                           2.41              93.49  \n",
       "5               1.56                           3.18              92.96  \n",
       "6               1.79                           1.04              93.63  \n",
       "7               1.70                           1.32              94.18  \n",
       "8               1.64                           0.61              93.55  \n",
       "9               1.74                           0.14              92.14  \n",
       "10              1.90                           0.59              91.81  \n",
       "11              1.91                           0.00              90.28  \n",
       "12              1.74                           0.20              89.95  \n",
       "13              1.80                           0.76              89.37  \n",
       "14              1.90                           0.80              88.84  >"
      ]
     },
     "execution_count": 4,
     "metadata": {},
     "output_type": "execute_result"
    }
   ],
   "source": [
    "M2.head"
   ]
  },
  {
   "cell_type": "code",
   "execution_count": 5,
   "metadata": {},
   "outputs": [
    {
     "data": {
      "text/html": [
       "<div>\n",
       "<style scoped>\n",
       "    .dataframe tbody tr th:only-of-type {\n",
       "        vertical-align: middle;\n",
       "    }\n",
       "\n",
       "    .dataframe tbody tr th {\n",
       "        vertical-align: top;\n",
       "    }\n",
       "\n",
       "    .dataframe thead th {\n",
       "        text-align: right;\n",
       "    }\n",
       "</style>\n",
       "<table border=\"1\" class=\"dataframe\">\n",
       "  <thead>\n",
       "    <tr style=\"text-align: right;\">\n",
       "      <th></th>\n",
       "      <th>Inventory performance index</th>\n",
       "      <th>Excess inventory percentage</th>\n",
       "      <th>FBA sell-through</th>\n",
       "      <th>Stranded inventory percentage</th>\n",
       "      <th>FBA in-stock rate</th>\n",
       "    </tr>\n",
       "  </thead>\n",
       "  <tbody>\n",
       "    <tr>\n",
       "      <th>count</th>\n",
       "      <td>14.000000</td>\n",
       "      <td>15.000000</td>\n",
       "      <td>14.000000</td>\n",
       "      <td>14.000000</td>\n",
       "      <td>13.000000</td>\n",
       "    </tr>\n",
       "    <tr>\n",
       "      <th>mean</th>\n",
       "      <td>545.428571</td>\n",
       "      <td>13.920667</td>\n",
       "      <td>1.638571</td>\n",
       "      <td>1.287857</td>\n",
       "      <td>91.718462</td>\n",
       "    </tr>\n",
       "    <tr>\n",
       "      <th>std</th>\n",
       "      <td>21.320681</td>\n",
       "      <td>4.865999</td>\n",
       "      <td>0.236020</td>\n",
       "      <td>1.168695</td>\n",
       "      <td>1.835233</td>\n",
       "    </tr>\n",
       "    <tr>\n",
       "      <th>min</th>\n",
       "      <td>514.000000</td>\n",
       "      <td>7.390000</td>\n",
       "      <td>1.250000</td>\n",
       "      <td>0.000000</td>\n",
       "      <td>88.840000</td>\n",
       "    </tr>\n",
       "    <tr>\n",
       "      <th>25%</th>\n",
       "      <td>526.500000</td>\n",
       "      <td>9.560000</td>\n",
       "      <td>1.447500</td>\n",
       "      <td>0.595000</td>\n",
       "      <td>89.950000</td>\n",
       "    </tr>\n",
       "    <tr>\n",
       "      <th>50%</th>\n",
       "      <td>552.000000</td>\n",
       "      <td>12.770000</td>\n",
       "      <td>1.720000</td>\n",
       "      <td>0.920000</td>\n",
       "      <td>92.140000</td>\n",
       "    </tr>\n",
       "    <tr>\n",
       "      <th>75%</th>\n",
       "      <td>565.500000</td>\n",
       "      <td>18.500000</td>\n",
       "      <td>1.797500</td>\n",
       "      <td>1.792500</td>\n",
       "      <td>93.490000</td>\n",
       "    </tr>\n",
       "    <tr>\n",
       "      <th>max</th>\n",
       "      <td>568.000000</td>\n",
       "      <td>21.280000</td>\n",
       "      <td>1.910000</td>\n",
       "      <td>3.890000</td>\n",
       "      <td>94.180000</td>\n",
       "    </tr>\n",
       "  </tbody>\n",
       "</table>\n",
       "</div>"
      ],
      "text/plain": [
       "       Inventory performance index  Excess inventory percentage  \\\n",
       "count                    14.000000                    15.000000   \n",
       "mean                    545.428571                    13.920667   \n",
       "std                      21.320681                     4.865999   \n",
       "min                     514.000000                     7.390000   \n",
       "25%                     526.500000                     9.560000   \n",
       "50%                     552.000000                    12.770000   \n",
       "75%                     565.500000                    18.500000   \n",
       "max                     568.000000                    21.280000   \n",
       "\n",
       "       FBA sell-through  Stranded inventory percentage  FBA in-stock rate  \n",
       "count         14.000000                      14.000000          13.000000  \n",
       "mean           1.638571                       1.287857          91.718462  \n",
       "std            0.236020                       1.168695           1.835233  \n",
       "min            1.250000                       0.000000          88.840000  \n",
       "25%            1.447500                       0.595000          89.950000  \n",
       "50%            1.720000                       0.920000          92.140000  \n",
       "75%            1.797500                       1.792500          93.490000  \n",
       "max            1.910000                       3.890000          94.180000  "
      ]
     },
     "execution_count": 5,
     "metadata": {},
     "output_type": "execute_result"
    }
   ],
   "source": [
    "M2.describe()"
   ]
  },
  {
   "cell_type": "code",
   "execution_count": 6,
   "metadata": {},
   "outputs": [
    {
     "name": "stdout",
     "output_type": "stream",
     "text": [
      "<class 'pandas.core.frame.DataFrame'>\n",
      "RangeIndex: 15 entries, 0 to 14\n",
      "Data columns (total 6 columns):\n",
      " #   Column                         Non-Null Count  Dtype  \n",
      "---  ------                         --------------  -----  \n",
      " 0   Date                           15 non-null     object \n",
      " 1   Inventory performance index    14 non-null     float64\n",
      " 2   Excess inventory percentage    15 non-null     float64\n",
      " 3   FBA sell-through               14 non-null     float64\n",
      " 4   Stranded inventory percentage  14 non-null     float64\n",
      " 5   FBA in-stock rate              13 non-null     float64\n",
      "dtypes: float64(5), object(1)\n",
      "memory usage: 848.0+ bytes\n"
     ]
    }
   ],
   "source": [
    "M2.info()"
   ]
  },
  {
   "cell_type": "markdown",
   "metadata": {},
   "source": [
    "## Meta Data"
   ]
  },
  {
   "cell_type": "markdown",
   "metadata": {},
   "source": [
    "* Inventory performance index: The IPI measures how efficiently and productively you manage your FBA inventory.\n",
    "* Excess inventory percentage: The percentage of your FBA units identified as excess.\n",
    "* FBA sell-through: Your FBA rolling 90-day sell-through rate is the number of your units sold and shipped over the past 90 days divided by the average number of units available at fulfillment centers during that time.\n",
    "* Stranded inventory percentage: The percentage of your FBA units currently stranded.\n",
    "* FBA in-stock rate: Percentage of time your replenishable FBA products have been in stock for the last 30 days, weighted by the number of units sold in the last 60 days."
   ]
  },
  {
   "cell_type": "markdown",
   "metadata": {},
   "source": [
    "## Goal"
   ]
  },
  {
   "cell_type": "markdown",
   "metadata": {},
   "source": [
    "Amazon IPI (Inventory Performance Index) Score is shaped by 4 other indicators. Excess Inventory %, FBA Sell Through Rate, Stranded Inventory%, FBA in Stock%.\n",
    "We want to see if there is a weighted scale among those indicators, and which one has the significant effect on IPI Score.\n"
   ]
  },
  {
   "cell_type": "markdown",
   "metadata": {},
   "source": [
    "## Method"
   ]
  },
  {
   "cell_type": "markdown",
   "metadata": {},
   "source": [
    "* Stepwise Multiple Linear Regression\n",
    "* IV: Excess Inventory %, FBA Sell Through Rate, Stranded Inventory%, FBA in Stock%\n",
    "* DV: IPI"
   ]
  },
  {
   "cell_type": "markdown",
   "metadata": {},
   "source": [
    "### Data Wrangling"
   ]
  },
  {
   "cell_type": "code",
   "execution_count": 7,
   "metadata": {},
   "outputs": [
    {
     "data": {
      "text/plain": [
       "Index(['Date', 'Inventory performance index', 'Excess inventory percentage',\n",
       "       'FBA sell-through', 'Stranded inventory percentage',\n",
       "       'FBA in-stock rate'],\n",
       "      dtype='object')"
      ]
     },
     "execution_count": 7,
     "metadata": {},
     "output_type": "execute_result"
    }
   ],
   "source": [
    "M2.columns"
   ]
  },
  {
   "cell_type": "code",
   "execution_count": 8,
   "metadata": {},
   "outputs": [],
   "source": [
    "M2= M2[['Inventory performance index', 'Excess inventory percentage',\n",
    "       'FBA sell-through', 'Stranded inventory percentage',\n",
    "       'FBA in-stock rate']]"
   ]
  },
  {
   "cell_type": "code",
   "execution_count": 9,
   "metadata": {},
   "outputs": [
    {
     "data": {
      "text/html": [
       "<div>\n",
       "<style scoped>\n",
       "    .dataframe tbody tr th:only-of-type {\n",
       "        vertical-align: middle;\n",
       "    }\n",
       "\n",
       "    .dataframe tbody tr th {\n",
       "        vertical-align: top;\n",
       "    }\n",
       "\n",
       "    .dataframe thead th {\n",
       "        text-align: right;\n",
       "    }\n",
       "</style>\n",
       "<table border=\"1\" class=\"dataframe\">\n",
       "  <thead>\n",
       "    <tr style=\"text-align: right;\">\n",
       "      <th></th>\n",
       "      <th>Inventory performance index</th>\n",
       "      <th>Excess inventory percentage</th>\n",
       "      <th>FBA sell-through</th>\n",
       "      <th>Stranded inventory percentage</th>\n",
       "      <th>FBA in-stock rate</th>\n",
       "    </tr>\n",
       "  </thead>\n",
       "  <tbody>\n",
       "    <tr>\n",
       "      <th>0</th>\n",
       "      <td>NaN</td>\n",
       "      <td>21.28</td>\n",
       "      <td>NaN</td>\n",
       "      <td>NaN</td>\n",
       "      <td>NaN</td>\n",
       "    </tr>\n",
       "    <tr>\n",
       "      <th>1</th>\n",
       "      <td>514.0</td>\n",
       "      <td>18.35</td>\n",
       "      <td>1.25</td>\n",
       "      <td>1.14</td>\n",
       "      <td>NaN</td>\n",
       "    </tr>\n",
       "    <tr>\n",
       "      <th>2</th>\n",
       "      <td>514.0</td>\n",
       "      <td>20.00</td>\n",
       "      <td>1.33</td>\n",
       "      <td>3.89</td>\n",
       "      <td>89.92</td>\n",
       "    </tr>\n",
       "    <tr>\n",
       "      <th>3</th>\n",
       "      <td>519.0</td>\n",
       "      <td>15.89</td>\n",
       "      <td>1.27</td>\n",
       "      <td>1.95</td>\n",
       "      <td>92.22</td>\n",
       "    </tr>\n",
       "    <tr>\n",
       "      <th>4</th>\n",
       "      <td>525.0</td>\n",
       "      <td>16.49</td>\n",
       "      <td>1.41</td>\n",
       "      <td>2.41</td>\n",
       "      <td>93.49</td>\n",
       "    </tr>\n",
       "    <tr>\n",
       "      <th>5</th>\n",
       "      <td>531.0</td>\n",
       "      <td>18.65</td>\n",
       "      <td>1.56</td>\n",
       "      <td>3.18</td>\n",
       "      <td>92.96</td>\n",
       "    </tr>\n",
       "    <tr>\n",
       "      <th>6</th>\n",
       "      <td>537.0</td>\n",
       "      <td>19.57</td>\n",
       "      <td>1.79</td>\n",
       "      <td>1.04</td>\n",
       "      <td>93.63</td>\n",
       "    </tr>\n",
       "    <tr>\n",
       "      <th>7</th>\n",
       "      <td>548.0</td>\n",
       "      <td>12.77</td>\n",
       "      <td>1.70</td>\n",
       "      <td>1.32</td>\n",
       "      <td>94.18</td>\n",
       "    </tr>\n",
       "    <tr>\n",
       "      <th>8</th>\n",
       "      <td>556.0</td>\n",
       "      <td>10.18</td>\n",
       "      <td>1.64</td>\n",
       "      <td>0.61</td>\n",
       "      <td>93.55</td>\n",
       "    </tr>\n",
       "    <tr>\n",
       "      <th>9</th>\n",
       "      <td>560.0</td>\n",
       "      <td>11.46</td>\n",
       "      <td>1.74</td>\n",
       "      <td>0.14</td>\n",
       "      <td>92.14</td>\n",
       "    </tr>\n",
       "    <tr>\n",
       "      <th>10</th>\n",
       "      <td>564.0</td>\n",
       "      <td>10.57</td>\n",
       "      <td>1.90</td>\n",
       "      <td>0.59</td>\n",
       "      <td>91.81</td>\n",
       "    </tr>\n",
       "    <tr>\n",
       "      <th>11</th>\n",
       "      <td>566.0</td>\n",
       "      <td>8.94</td>\n",
       "      <td>1.91</td>\n",
       "      <td>0.00</td>\n",
       "      <td>90.28</td>\n",
       "    </tr>\n",
       "    <tr>\n",
       "      <th>12</th>\n",
       "      <td>567.0</td>\n",
       "      <td>8.81</td>\n",
       "      <td>1.74</td>\n",
       "      <td>0.20</td>\n",
       "      <td>89.95</td>\n",
       "    </tr>\n",
       "    <tr>\n",
       "      <th>13</th>\n",
       "      <td>567.0</td>\n",
       "      <td>7.39</td>\n",
       "      <td>1.80</td>\n",
       "      <td>0.76</td>\n",
       "      <td>89.37</td>\n",
       "    </tr>\n",
       "    <tr>\n",
       "      <th>14</th>\n",
       "      <td>568.0</td>\n",
       "      <td>8.46</td>\n",
       "      <td>1.90</td>\n",
       "      <td>0.80</td>\n",
       "      <td>88.84</td>\n",
       "    </tr>\n",
       "  </tbody>\n",
       "</table>\n",
       "</div>"
      ],
      "text/plain": [
       "    Inventory performance index  Excess inventory percentage  \\\n",
       "0                           NaN                        21.28   \n",
       "1                         514.0                        18.35   \n",
       "2                         514.0                        20.00   \n",
       "3                         519.0                        15.89   \n",
       "4                         525.0                        16.49   \n",
       "5                         531.0                        18.65   \n",
       "6                         537.0                        19.57   \n",
       "7                         548.0                        12.77   \n",
       "8                         556.0                        10.18   \n",
       "9                         560.0                        11.46   \n",
       "10                        564.0                        10.57   \n",
       "11                        566.0                         8.94   \n",
       "12                        567.0                         8.81   \n",
       "13                        567.0                         7.39   \n",
       "14                        568.0                         8.46   \n",
       "\n",
       "    FBA sell-through  Stranded inventory percentage  FBA in-stock rate  \n",
       "0                NaN                            NaN                NaN  \n",
       "1               1.25                           1.14                NaN  \n",
       "2               1.33                           3.89              89.92  \n",
       "3               1.27                           1.95              92.22  \n",
       "4               1.41                           2.41              93.49  \n",
       "5               1.56                           3.18              92.96  \n",
       "6               1.79                           1.04              93.63  \n",
       "7               1.70                           1.32              94.18  \n",
       "8               1.64                           0.61              93.55  \n",
       "9               1.74                           0.14              92.14  \n",
       "10              1.90                           0.59              91.81  \n",
       "11              1.91                           0.00              90.28  \n",
       "12              1.74                           0.20              89.95  \n",
       "13              1.80                           0.76              89.37  \n",
       "14              1.90                           0.80              88.84  "
      ]
     },
     "execution_count": 9,
     "metadata": {},
     "output_type": "execute_result"
    }
   ],
   "source": [
    "M2"
   ]
  },
  {
   "cell_type": "code",
   "execution_count": 10,
   "metadata": {},
   "outputs": [],
   "source": [
    "M2=M2.dropna()"
   ]
  },
  {
   "cell_type": "markdown",
   "metadata": {},
   "source": [
    "### Testing for Assumptions"
   ]
  },
  {
   "cell_type": "markdown",
   "metadata": {},
   "source": [
    "* Linear relationship\n",
    "* Homoscedasticity\n",
    "* Homogenity of variance\n",
    "* The x's are fixed and measured without error\n",
    "* Multicollinearity\n",
    "* Lack of outliers"
   ]
  },
  {
   "cell_type": "code",
   "execution_count": 11,
   "metadata": {},
   "outputs": [
    {
     "data": {
      "text/plain": [
       "<seaborn.axisgrid.PairGrid at 0x7fc794191dc0>"
      ]
     },
     "execution_count": 11,
     "metadata": {},
     "output_type": "execute_result"
    },
    {
     "data": {
      "image/png": "[encoded data removed]",
      "text/plain": [
       "<Figure size 900x900 with 30 Axes>"
      ]
     },
     "metadata": {
      "needs_background": "light"
     },
     "output_type": "display_data"
    }
   ],
   "source": [
    "sns.pairplot(M2)"
   ]
  },
  {
   "cell_type": "code",
   "execution_count": 12,
   "metadata": {},
   "outputs": [],
   "source": [
    "import pandas as pd\n",
    "from sklearn import linear_model\n",
    "import statsmodels.api as sm"
   ]
  },
  {
   "cell_type": "code",
   "execution_count": 14,
   "metadata": {},
   "outputs": [],
   "source": [
    "x = M2[['Excess inventory percentage','FBA sell-through', 'Stranded inventory percentage','FBA in-stock rate']]\n",
    "y = M2['Inventory performance index']"
   ]
  },
  {
   "cell_type": "code",
   "execution_count": 15,
   "metadata": {},
   "outputs": [],
   "source": [
    "model = sm.OLS(y,x).fit()"
   ]
  },
  {
   "cell_type": "code",
   "execution_count": 16,
   "metadata": {},
   "outputs": [],
   "source": [
    "pred_val = model.fittedvalues.copy()\n",
    "true_val = M2['Inventory performance index'].values.copy()\n",
    "residual = true_val - pred_val"
   ]
  },
  {
   "cell_type": "code",
   "execution_count": 17,
   "metadata": {},
   "outputs": [
    {
     "data": {
      "image/png": "[encoded data removed]",
      "text/plain": [
       "<Figure size 432x180 with 1 Axes>"
      ]
     },
     "metadata": {
      "needs_background": "light"
     },
     "output_type": "display_data"
    }
   ],
   "source": [
    "fig, ax = plt.subplots(figsize=(6, 2.5))\n",
    "_ = ax.scatter(residual, pred_val)"
   ]
  },
  {
   "cell_type": "code",
   "execution_count": 18,
   "metadata": {},
   "outputs": [
    {
     "data": {
      "text/plain": [
       "Ttest_1sampResult(statistic=3.521595666276856, pvalue=0.006499134382822254)"
      ]
     },
     "execution_count": 18,
     "metadata": {},
     "output_type": "execute_result"
    }
   ],
   "source": [
    "sms.linear_harvey_collier(model)"
   ]
  },
  {
   "cell_type": "code",
   "execution_count": 19,
   "metadata": {},
   "outputs": [
    {
     "data": {
      "text/html": [
       "<div>\n",
       "<style scoped>\n",
       "    .dataframe tbody tr th:only-of-type {\n",
       "        vertical-align: middle;\n",
       "    }\n",
       "\n",
       "    .dataframe tbody tr th {\n",
       "        vertical-align: top;\n",
       "    }\n",
       "\n",
       "    .dataframe thead th {\n",
       "        text-align: right;\n",
       "    }\n",
       "</style>\n",
       "<table border=\"1\" class=\"dataframe\">\n",
       "  <thead>\n",
       "    <tr style=\"text-align: right;\">\n",
       "      <th></th>\n",
       "      <th>Inventory performance index</th>\n",
       "      <th>Excess inventory percentage</th>\n",
       "      <th>FBA sell-through</th>\n",
       "      <th>Stranded inventory percentage</th>\n",
       "      <th>FBA in-stock rate</th>\n",
       "    </tr>\n",
       "  </thead>\n",
       "  <tbody>\n",
       "    <tr>\n",
       "      <th>Inventory performance index</th>\n",
       "      <td>1.000000</td>\n",
       "      <td>-0.914357</td>\n",
       "      <td>0.894985</td>\n",
       "      <td>-0.876403</td>\n",
       "      <td>-0.399467</td>\n",
       "    </tr>\n",
       "    <tr>\n",
       "      <th>Excess inventory percentage</th>\n",
       "      <td>-0.914357</td>\n",
       "      <td>1.000000</td>\n",
       "      <td>-0.671290</td>\n",
       "      <td>0.807380</td>\n",
       "      <td>0.475451</td>\n",
       "    </tr>\n",
       "    <tr>\n",
       "      <th>FBA sell-through</th>\n",
       "      <td>0.894985</td>\n",
       "      <td>-0.671290</td>\n",
       "      <td>1.000000</td>\n",
       "      <td>-0.781021</td>\n",
       "      <td>-0.277875</td>\n",
       "    </tr>\n",
       "    <tr>\n",
       "      <th>Stranded inventory percentage</th>\n",
       "      <td>-0.876403</td>\n",
       "      <td>0.807380</td>\n",
       "      <td>-0.781021</td>\n",
       "      <td>1.000000</td>\n",
       "      <td>0.157845</td>\n",
       "    </tr>\n",
       "    <tr>\n",
       "      <th>FBA in-stock rate</th>\n",
       "      <td>-0.399467</td>\n",
       "      <td>0.475451</td>\n",
       "      <td>-0.277875</td>\n",
       "      <td>0.157845</td>\n",
       "      <td>1.000000</td>\n",
       "    </tr>\n",
       "  </tbody>\n",
       "</table>\n",
       "</div>"
      ],
      "text/plain": [
       "                               Inventory performance index  \\\n",
       "Inventory performance index                       1.000000   \n",
       "Excess inventory percentage                      -0.914357   \n",
       "FBA sell-through                                  0.894985   \n",
       "Stranded inventory percentage                    -0.876403   \n",
       "FBA in-stock rate                                -0.399467   \n",
       "\n",
       "                               Excess inventory percentage  FBA sell-through  \\\n",
       "Inventory performance index                      -0.914357          0.894985   \n",
       "Excess inventory percentage                       1.000000         -0.671290   \n",
       "FBA sell-through                                 -0.671290          1.000000   \n",
       "Stranded inventory percentage                     0.807380         -0.781021   \n",
       "FBA in-stock rate                                 0.475451         -0.277875   \n",
       "\n",
       "                               Stranded inventory percentage  \\\n",
       "Inventory performance index                        -0.876403   \n",
       "Excess inventory percentage                         0.807380   \n",
       "FBA sell-through                                   -0.781021   \n",
       "Stranded inventory percentage                       1.000000   \n",
       "FBA in-stock rate                                   0.157845   \n",
       "\n",
       "                               FBA in-stock rate  \n",
       "Inventory performance index            -0.399467  \n",
       "Excess inventory percentage             0.475451  \n",
       "FBA sell-through                       -0.277875  \n",
       "Stranded inventory percentage           0.157845  \n",
       "FBA in-stock rate                       1.000000  "
      ]
     },
     "execution_count": 19,
     "metadata": {},
     "output_type": "execute_result"
    }
   ],
   "source": [
    "M2.corr()\n"
   ]
  },
  {
   "cell_type": "code",
   "execution_count": 20,
   "metadata": {},
   "outputs": [
    {
     "data": {
      "image/png": "[encoded data removed]",
      "text/plain": [
       "<Figure size 864x576 with 1 Axes>"
      ]
     },
     "metadata": {
      "needs_background": "light"
     },
     "output_type": "display_data"
    }
   ],
   "source": [
    "fig, ax = plt.subplots(figsize=(12,8))\n",
    "fig = sm.graphics.influence_plot(model, alpha = .05, ax = ax, criterion=\"cooks\")"
   ]
  },
  {
   "cell_type": "code",
   "execution_count": 21,
   "metadata": {},
   "outputs": [
    {
     "name": "stderr",
     "output_type": "stream",
     "text": [
      "/opt/anaconda3/lib/python3.8/site-packages/scipy/stats/stats.py:1603: UserWarning: kurtosistest only valid for n>=20 ... continuing anyway, n=13\n",
      "  warnings.warn(\"kurtosistest only valid for n>=20 ... continuing \"\n"
     ]
    },
    {
     "data": {
      "text/html": [
       "<table class=\"simpletable\">\n",
       "<caption>OLS Regression Results</caption>\n",
       "<tr>\n",
       "  <th>Dep. Variable:</th>    <td>Inventory performance index</td> <th>  R-squared (uncentered):</th>      <td>   1.000</td> \n",
       "</tr>\n",
       "<tr>\n",
       "  <th>Model:</th>                        <td>OLS</td>             <th>  Adj. R-squared (uncentered):</th> <td>   1.000</td> \n",
       "</tr>\n",
       "<tr>\n",
       "  <th>Method:</th>                  <td>Least Squares</td>        <th>  F-statistic:       </th>          <td>1.140e+04</td>\n",
       "</tr>\n",
       "<tr>\n",
       "  <th>Date:</th>                  <td>Sun, 06 Jun 2021</td>       <th>  Prob (F-statistic):</th>          <td>1.17e-16</td> \n",
       "</tr>\n",
       "<tr>\n",
       "  <th>Time:</th>                      <td>20:56:13</td>           <th>  Log-Likelihood:    </th>          <td> -44.983</td> \n",
       "</tr>\n",
       "<tr>\n",
       "  <th>No. Observations:</th>           <td>    13</td>            <th>  AIC:               </th>          <td>   97.97</td> \n",
       "</tr>\n",
       "<tr>\n",
       "  <th>Df Residuals:</th>               <td>     9</td>            <th>  BIC:               </th>          <td>   100.2</td> \n",
       "</tr>\n",
       "<tr>\n",
       "  <th>Df Model:</th>                   <td>     4</td>            <th>                     </th>              <td> </td>    \n",
       "</tr>\n",
       "<tr>\n",
       "  <th>Covariance Type:</th>           <td>nonrobust</td>          <th>                     </th>              <td> </td>    \n",
       "</tr>\n",
       "</table>\n",
       "<table class=\"simpletable\">\n",
       "<tr>\n",
       "                <td></td>                   <th>coef</th>     <th>std err</th>      <th>t</th>      <th>P>|t|</th>  <th>[0.025</th>    <th>0.975]</th>  \n",
       "</tr>\n",
       "<tr>\n",
       "  <th>Excess inventory percentage</th>   <td>   -4.2028</td> <td>    1.065</td> <td>   -3.944</td> <td> 0.003</td> <td>   -6.613</td> <td>   -1.792</td>\n",
       "</tr>\n",
       "<tr>\n",
       "  <th>FBA sell-through</th>              <td>   69.7989</td> <td>   18.452</td> <td>    3.783</td> <td> 0.004</td> <td>   28.057</td> <td>  111.541</td>\n",
       "</tr>\n",
       "<tr>\n",
       "  <th>Stranded inventory percentage</th> <td>    6.7372</td> <td>    4.246</td> <td>    1.587</td> <td> 0.147</td> <td>   -2.869</td> <td>   16.343</td>\n",
       "</tr>\n",
       "<tr>\n",
       "  <th>FBA in-stock rate</th>             <td>    5.2032</td> <td>    0.412</td> <td>   12.624</td> <td> 0.000</td> <td>    4.271</td> <td>    6.136</td>\n",
       "</tr>\n",
       "</table>\n",
       "<table class=\"simpletable\">\n",
       "<tr>\n",
       "  <th>Omnibus:</th>       <td> 0.186</td> <th>  Durbin-Watson:     </th> <td>   1.529</td>\n",
       "</tr>\n",
       "<tr>\n",
       "  <th>Prob(Omnibus):</th> <td> 0.911</td> <th>  Jarque-Bera (JB):  </th> <td>   0.168</td>\n",
       "</tr>\n",
       "<tr>\n",
       "  <th>Skew:</th>          <td>-0.186</td> <th>  Prob(JB):          </th> <td>   0.919</td>\n",
       "</tr>\n",
       "<tr>\n",
       "  <th>Kurtosis:</th>      <td> 2.585</td> <th>  Cond. No.          </th> <td>    670.</td>\n",
       "</tr>\n",
       "</table><br/><br/>Notes:<br/>[1] R² is computed without centering (uncentered) since the model does not contain a constant.<br/>[2] Standard Errors assume that the covariance matrix of the errors is correctly specified."
      ],
      "text/plain": [
       "<class 'statsmodels.iolib.summary.Summary'>\n",
       "\"\"\"\n",
       "                                     OLS Regression Results                                     \n",
       "================================================================================================\n",
       "Dep. Variable:     Inventory performance index   R-squared (uncentered):                   1.000\n",
       "Model:                                     OLS   Adj. R-squared (uncentered):              1.000\n",
       "Method:                          Least Squares   F-statistic:                          1.140e+04\n",
       "Date:                         Sun, 06 Jun 2021   Prob (F-statistic):                    1.17e-16\n",
       "Time:                                 20:56:13   Log-Likelihood:                         -44.983\n",
       "No. Observations:                           13   AIC:                                      97.97\n",
       "Df Residuals:                                9   BIC:                                      100.2\n",
       "Df Model:                                    4                                                  \n",
       "Covariance Type:                     nonrobust                                                  \n",
       "=================================================================================================\n",
       "                                    coef    std err          t      P>|t|      [0.025      0.975]\n",
       "-------------------------------------------------------------------------------------------------\n",
       "Excess inventory percentage      -4.2028      1.065     -3.944      0.003      -6.613      -1.792\n",
       "FBA sell-through                 69.7989     18.452      3.783      0.004      28.057     111.541\n",
       "Stranded inventory percentage     6.7372      4.246      1.587      0.147      -2.869      16.343\n",
       "FBA in-stock rate                 5.2032      0.412     12.624      0.000       4.271       6.136\n",
       "==============================================================================\n",
       "Omnibus:                        0.186   Durbin-Watson:                   1.529\n",
       "Prob(Omnibus):                  0.911   Jarque-Bera (JB):                0.168\n",
       "Skew:                          -0.186   Prob(JB):                        0.919\n",
       "Kurtosis:                       2.585   Cond. No.                         670.\n",
       "==============================================================================\n",
       "\n",
       "Notes:\n",
       "[1] R² is computed without centering (uncentered) since the model does not contain a constant.\n",
       "[2] Standard Errors assume that the covariance matrix of the errors is correctly specified.\n",
       "\"\"\""
      ]
     },
     "execution_count": 21,
     "metadata": {},
     "output_type": "execute_result"
    }
   ],
   "source": [
    "model.summary()"
   ]
  },
  {
   "cell_type": "code",
   "execution_count": null,
   "metadata": {},
   "outputs": [],
   "source": []
  }
 ],
 "metadata": {
  "kernelspec": {
   "display_name": "Python 3",
   "language": "python",
   "name": "python3"
  },
  "language_info": {
   "codemirror_mode": {
    "name": "ipython",
    "version": 3
   },
   "file_extension": ".py",
   "mimetype": "text/x-python",
   "name": "python",
   "nbconvert_exporter": "python",
   "pygments_lexer": "ipython3",
   "version": "3.8.5"
  }
 },
 "nbformat": 4,
 "nbformat_minor": 4
}
